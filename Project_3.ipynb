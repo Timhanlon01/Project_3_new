{
 "cells": [
  {
   "cell_type": "markdown",
   "id": "ef343355",
   "metadata": {},
   "source": [
    "## Project 3\n",
    "Text Classification Transformer"
   ]
  },
  {
   "cell_type": "code",
   "execution_count": null,
   "id": "82f25bab",
   "metadata": {},
   "outputs": [
    {
     "name": "stdout",
     "output_type": "stream",
     "text": [
      "First five rows:\n",
      "             timestamp sentiment                             comment  label\n",
      "0  2025-04-14 23:35:41  negative      Bullpen gave up the lead late.      0\n",
      "1  2025-04-14 23:40:41  negative    Poor communication in the field.      0\n",
      "2  2025-04-14 23:45:41  negative        Couldn't get the bats going.      0\n",
      "3  2025-04-14 23:50:41  positive   Outstanding play by the outfield.      1\n",
      "4  2025-04-14 23:55:41  negative  Pitching struggled from the start.      0\n"
     ]
    }
   ],
   "source": [
    "# Project 3 new\n",
    "import pandas as pd\n",
    "from transformers import AutoTokenizer, TrainingArguments, Trainer, BertForSequenceClassification\n",
    "from datasets import Dataset\n",
    "\n",
    "# Load the CSV\n",
    "df = pd.read_csv(r\"C:\\Users\\timha\\Project_3\\redsox_commentary.csv\")\n",
    "\n",
    "# Encode sentiment labels\n",
    "label_map = {'negative': 0, 'positive': 1}\n",
    "df['label'] = df['sentiment'].map(label_map)\n",
    "\n",
    "# Display the first few rows\n",
    "print(\"First five rows:\")\n",
    "print(df.head())\n"
   ]
  },
  {
   "cell_type": "code",
   "execution_count": 43,
   "id": "eb1da55b",
   "metadata": {},
   "outputs": [
    {
     "name": "stdout",
     "output_type": "stream",
     "text": [
      "Encoding sentiment labels...\n",
      "Encoded labels:\n",
      "label\n",
      "0    55\n",
      "1    45\n",
      "Name: count, dtype: int64\n"
     ]
    }
   ],
   "source": [
    "# Encoded sentiment labels\n",
    "print(\"Encoding sentiment labels...\")\n",
    "label_map = {'negative': 0, 'positive': 1}\n",
    "df['label'] = df['sentiment'].map(label_map)\n",
    "print(f\"Encoded labels:\\n{df['label'].value_counts()}\")"
   ]
  },
  {
   "cell_type": "code",
   "execution_count": 44,
   "id": "7ce8f126",
   "metadata": {},
   "outputs": [
    {
     "name": "stdout",
     "output_type": "stream",
     "text": [
      "Initializing tokenizer...\n",
      "Tokenizer loaded.\n",
      "Defining tokenization function...\n",
      "Converting to Hugging Face dataset...\n",
      "Dataset created. Tokenizing the dataset...\n"
     ]
    },
    {
     "data": {
      "application/vnd.jupyter.widget-view+json": {
       "model_id": "cd0c72c1a22543f2a732b36a4cd500cf",
       "version_major": 2,
       "version_minor": 0
      },
      "text/plain": [
       "Map:   0%|          | 0/100 [00:00<?, ? examples/s]"
      ]
     },
     "metadata": {},
     "output_type": "display_data"
    },
    {
     "name": "stdout",
     "output_type": "stream",
     "text": [
      "Tokenization complete.\n"
     ]
    }
   ],
   "source": [
    "# 2. Initialized Tokenizer\n",
    "print(\"Initializing tokenizer...\")\n",
    "tokenizer = AutoTokenizer.from_pretrained(\"bert-base-uncased\")\n",
    "print(\"Tokenizer loaded.\")\n",
    "\n",
    "# 3. Tokenization Function\n",
    "print(\"Defining tokenization function...\")\n",
    "def tokenize(batch):\n",
    "    return tokenizer(batch['comment'], padding=True, truncation=True)\n",
    "\n",
    "# 4. Converted to Hugging Face Dataset\n",
    "print(\"Converting to Hugging Face dataset...\")\n",
    "dataset = Dataset.from_pandas(df)\n",
    "print(\"Dataset created. Tokenizing the dataset...\")\n",
    "dataset = dataset.map(tokenize, batched=True)\n",
    "print(\"Tokenization complete.\")"
   ]
  },
  {
   "cell_type": "code",
   "execution_count": 45,
   "id": "660178fc",
   "metadata": {},
   "outputs": [
    {
     "name": "stdout",
     "output_type": "stream",
     "text": [
      "Cleaning up dataset by removing unnecessary columns...\n",
      "Dataset ready for training.\n"
     ]
    }
   ],
   "source": [
    "# 5. Removed Unnecessary Columns and Set Format for PyTorch\n",
    "print(\"Cleaning up dataset by removing unnecessary columns...\")\n",
    "dataset = dataset.remove_columns(['timestamp', 'sentiment'])\n",
    "dataset.set_format(type='torch', columns=['input_ids', 'token_type_ids', 'attention_mask', 'label'])\n",
    "print(\"Dataset ready for training.\")"
   ]
  },
  {
   "cell_type": "code",
   "execution_count": 46,
   "id": "63aad901",
   "metadata": {},
   "outputs": [
    {
     "name": "stdout",
     "output_type": "stream",
     "text": [
      "Splitting dataset into train and test sets...\n",
      "Split complete. Training samples: 80, Testing samples: 20\n"
     ]
    }
   ],
   "source": [
    "# 6. Split the Dataset\n",
    "print(\"Splitting dataset into train and test sets...\")\n",
    "split_dataset = dataset.train_test_split(test_size=0.2)\n",
    "train_dataset = split_dataset['train']\n",
    "test_dataset = split_dataset['test']\n",
    "print(f\"Split complete. Training samples: {len(train_dataset)}, Testing samples: {len(test_dataset)}\")\n"
   ]
  },
  {
   "cell_type": "code",
   "execution_count": 47,
   "id": "67f1211e",
   "metadata": {},
   "outputs": [
    {
     "name": "stdout",
     "output_type": "stream",
     "text": [
      "Loading pre-trained BERT model for sequence classification...\n"
     ]
    },
    {
     "name": "stderr",
     "output_type": "stream",
     "text": [
      "Some weights of BertForSequenceClassification were not initialized from the model checkpoint at bert-base-uncased and are newly initialized: ['classifier.bias', 'classifier.weight']\n",
      "You should probably TRAIN this model on a down-stream task to be able to use it for predictions and inference.\n"
     ]
    },
    {
     "name": "stdout",
     "output_type": "stream",
     "text": [
      "Model loaded.\n"
     ]
    }
   ],
   "source": [
    "# 7. Loading the Pre-trained BERT Model\n",
    "print(\"Loading pre-trained BERT model for sequence classification...\")\n",
    "model = BertForSequenceClassification.from_pretrained(\"bert-base-uncased\", num_labels=2)\n",
    "print(\"Model loaded.\")"
   ]
  },
  {
   "cell_type": "code",
   "execution_count": 48,
   "id": "4aee8b74",
   "metadata": {},
   "outputs": [
    {
     "name": "stdout",
     "output_type": "stream",
     "text": [
      "Setting up training arguments...\n",
      "Training arguments set.\n"
     ]
    }
   ],
   "source": [
    "# 8. Set Training Arguments\n",
    "print(\"Setting up training arguments...\")\n",
    "training_args = TrainingArguments(\n",
    "    output_dir=\"./results\",             \n",
    "    do_train=True,                      \n",
    "    do_eval=True,                       \n",
    "    learning_rate=2e-5,                 \n",
    "    per_device_train_batch_size=8,      \n",
    "    per_device_eval_batch_size=8,       \n",
    "    num_train_epochs=3,                 \n",
    "    weight_decay=0.01,                  \n",
    "    logging_dir='./logs',               \n",
    ")\n",
    "print(\"Training arguments set.\")"
   ]
  },
  {
   "cell_type": "code",
   "execution_count": 49,
   "id": "33bbb66b",
   "metadata": {},
   "outputs": [
    {
     "name": "stdout",
     "output_type": "stream",
     "text": [
      "\n",
      "Initializing Trainer...\n",
      "Trainer initialized.\n"
     ]
    }
   ],
   "source": [
    "# 9. Initialized the Trainer\n",
    "print(\"\\nInitializing Trainer...\")\n",
    "trainer = Trainer(\n",
    "    model=model,\n",
    "    args=training_args,\n",
    "    train_dataset=train_dataset,\n",
    "    eval_dataset=test_dataset,\n",
    ")\n",
    "print(\"Trainer initialized.\")"
   ]
  },
  {
   "cell_type": "code",
   "execution_count": 50,
   "id": "d1752d2f",
   "metadata": {},
   "outputs": [
    {
     "name": "stdout",
     "output_type": "stream",
     "text": [
      "\n",
      "Starting model training...\n"
     ]
    },
    {
     "data": {
      "text/html": [
       "\n",
       "    <div>\n",
       "      \n",
       "      <progress value='30' max='30' style='width:300px; height:20px; vertical-align: middle;'></progress>\n",
       "      [30/30 00:33, Epoch 3/3]\n",
       "    </div>\n",
       "    <table border=\"1\" class=\"dataframe\">\n",
       "  <thead>\n",
       " <tr style=\"text-align: left;\">\n",
       "      <th>Step</th>\n",
       "      <th>Training Loss</th>\n",
       "    </tr>\n",
       "  </thead>\n",
       "  <tbody>\n",
       "  </tbody>\n",
       "</table><p>"
      ],
      "text/plain": [
       "<IPython.core.display.HTML object>"
      ]
     },
     "metadata": {},
     "output_type": "display_data"
    },
    {
     "name": "stdout",
     "output_type": "stream",
     "text": [
      "Training complete!\n"
     ]
    }
   ],
   "source": [
    "# 10. Training the Model\n",
    "print(\"\\nStarting model training...\")\n",
    "trainer.train()\n",
    "print(\"Training complete!\")"
   ]
  },
  {
   "cell_type": "code",
   "execution_count": 51,
   "id": "4018e3fe",
   "metadata": {},
   "outputs": [
    {
     "name": "stdout",
     "output_type": "stream",
     "text": [
      "\n",
      "Saving the trained model...\n",
      "Model saved.\n"
     ]
    }
   ],
   "source": [
    "# 11. Save the Model\n",
    "print(\"\\nSaving the trained model...\")\n",
    "trainer.save_model(\"./sentiment_model\")\n",
    "print(\"Model saved.\")"
   ]
  },
  {
   "cell_type": "code",
   "execution_count": 52,
   "id": "7f0f9825",
   "metadata": {},
   "outputs": [
    {
     "name": "stdout",
     "output_type": "stream",
     "text": [
      "\n",
      "Evaluating the model on the test dataset...\n"
     ]
    },
    {
     "data": {
      "text/html": [
       "\n",
       "    <div>\n",
       "      \n",
       "      <progress value='3' max='3' style='width:300px; height:20px; vertical-align: middle;'></progress>\n",
       "      [3/3 00:00]\n",
       "    </div>\n",
       "    "
      ],
      "text/plain": [
       "<IPython.core.display.HTML object>"
      ]
     },
     "metadata": {},
     "output_type": "display_data"
    },
    {
     "name": "stdout",
     "output_type": "stream",
     "text": [
      "Evaluation results: {'eval_loss': 0.24868842959403992, 'eval_runtime': 0.5142, 'eval_samples_per_second': 38.898, 'eval_steps_per_second': 5.835, 'epoch': 3.0}\n"
     ]
    }
   ],
   "source": [
    "# 12. Evaluate the Model (Optional)\n",
    "print(\"\\nEvaluating the model on the test dataset...\")\n",
    "results = trainer.evaluate(test_dataset)\n",
    "print(\"Evaluation results:\", results)"
   ]
  }
 ],
 "metadata": {
  "kernelspec": {
   "display_name": "Python 3",
   "language": "python",
   "name": "python3"
  },
  "language_info": {
   "codemirror_mode": {
    "name": "ipython",
    "version": 3
   },
   "file_extension": ".py",
   "mimetype": "text/x-python",
   "name": "python",
   "nbconvert_exporter": "python",
   "pygments_lexer": "ipython3",
   "version": "3.13.0"
  }
 },
 "nbformat": 4,
 "nbformat_minor": 5
}
